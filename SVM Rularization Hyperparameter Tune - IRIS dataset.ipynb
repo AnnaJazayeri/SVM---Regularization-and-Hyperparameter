{
 "cells": [
  {
   "cell_type": "markdown",
   "id": "149f2f14",
   "metadata": {},
   "source": [
    "### Machine Learning BDA 500\n",
    "### Anna Jazayeri\n",
    "### Assignment 2\n",
    "### IRIS datast\n",
    "\n",
    "#### Importing relevant libraries"
   ]
  },
  {
   "cell_type": "code",
   "execution_count": 1,
   "id": "2344f4d3",
   "metadata": {},
   "outputs": [],
   "source": [
    "import pandas as pd\n",
    "from sklearn.datasets import load_iris"
   ]
  },
  {
   "cell_type": "markdown",
   "id": "af56ea8f",
   "metadata": {},
   "source": [
    "### Importing the IRIS dataset"
   ]
  },
  {
   "cell_type": "code",
   "execution_count": 5,
   "id": "bea6a1d4",
   "metadata": {},
   "outputs": [
    {
     "data": {
      "text/html": [
       "<div>\n",
       "<style scoped>\n",
       "    .dataframe tbody tr th:only-of-type {\n",
       "        vertical-align: middle;\n",
       "    }\n",
       "\n",
       "    .dataframe tbody tr th {\n",
       "        vertical-align: top;\n",
       "    }\n",
       "\n",
       "    .dataframe thead th {\n",
       "        text-align: right;\n",
       "    }\n",
       "</style>\n",
       "<table border=\"1\" class=\"dataframe\">\n",
       "  <thead>\n",
       "    <tr style=\"text-align: right;\">\n",
       "      <th></th>\n",
       "      <th>sepal length (cm)</th>\n",
       "      <th>sepal width (cm)</th>\n",
       "      <th>petal length (cm)</th>\n",
       "      <th>petal width (cm)</th>\n",
       "      <th>target</th>\n",
       "    </tr>\n",
       "  </thead>\n",
       "  <tbody>\n",
       "    <tr>\n",
       "      <th>0</th>\n",
       "      <td>5.1</td>\n",
       "      <td>3.5</td>\n",
       "      <td>1.4</td>\n",
       "      <td>0.2</td>\n",
       "      <td>0</td>\n",
       "    </tr>\n",
       "    <tr>\n",
       "      <th>1</th>\n",
       "      <td>4.9</td>\n",
       "      <td>3.0</td>\n",
       "      <td>1.4</td>\n",
       "      <td>0.2</td>\n",
       "      <td>0</td>\n",
       "    </tr>\n",
       "    <tr>\n",
       "      <th>2</th>\n",
       "      <td>4.7</td>\n",
       "      <td>3.2</td>\n",
       "      <td>1.3</td>\n",
       "      <td>0.2</td>\n",
       "      <td>0</td>\n",
       "    </tr>\n",
       "    <tr>\n",
       "      <th>3</th>\n",
       "      <td>4.6</td>\n",
       "      <td>3.1</td>\n",
       "      <td>1.5</td>\n",
       "      <td>0.2</td>\n",
       "      <td>0</td>\n",
       "    </tr>\n",
       "    <tr>\n",
       "      <th>4</th>\n",
       "      <td>5.0</td>\n",
       "      <td>3.6</td>\n",
       "      <td>1.4</td>\n",
       "      <td>0.2</td>\n",
       "      <td>0</td>\n",
       "    </tr>\n",
       "    <tr>\n",
       "      <th>...</th>\n",
       "      <td>...</td>\n",
       "      <td>...</td>\n",
       "      <td>...</td>\n",
       "      <td>...</td>\n",
       "      <td>...</td>\n",
       "    </tr>\n",
       "    <tr>\n",
       "      <th>145</th>\n",
       "      <td>6.7</td>\n",
       "      <td>3.0</td>\n",
       "      <td>5.2</td>\n",
       "      <td>2.3</td>\n",
       "      <td>2</td>\n",
       "    </tr>\n",
       "    <tr>\n",
       "      <th>146</th>\n",
       "      <td>6.3</td>\n",
       "      <td>2.5</td>\n",
       "      <td>5.0</td>\n",
       "      <td>1.9</td>\n",
       "      <td>2</td>\n",
       "    </tr>\n",
       "    <tr>\n",
       "      <th>147</th>\n",
       "      <td>6.5</td>\n",
       "      <td>3.0</td>\n",
       "      <td>5.2</td>\n",
       "      <td>2.0</td>\n",
       "      <td>2</td>\n",
       "    </tr>\n",
       "    <tr>\n",
       "      <th>148</th>\n",
       "      <td>6.2</td>\n",
       "      <td>3.4</td>\n",
       "      <td>5.4</td>\n",
       "      <td>2.3</td>\n",
       "      <td>2</td>\n",
       "    </tr>\n",
       "    <tr>\n",
       "      <th>149</th>\n",
       "      <td>5.9</td>\n",
       "      <td>3.0</td>\n",
       "      <td>5.1</td>\n",
       "      <td>1.8</td>\n",
       "      <td>2</td>\n",
       "    </tr>\n",
       "  </tbody>\n",
       "</table>\n",
       "<p>150 rows × 5 columns</p>\n",
       "</div>"
      ],
      "text/plain": [
       "     sepal length (cm)  sepal width (cm)  petal length (cm)  petal width (cm)  \\\n",
       "0                  5.1               3.5                1.4               0.2   \n",
       "1                  4.9               3.0                1.4               0.2   \n",
       "2                  4.7               3.2                1.3               0.2   \n",
       "3                  4.6               3.1                1.5               0.2   \n",
       "4                  5.0               3.6                1.4               0.2   \n",
       "..                 ...               ...                ...               ...   \n",
       "145                6.7               3.0                5.2               2.3   \n",
       "146                6.3               2.5                5.0               1.9   \n",
       "147                6.5               3.0                5.2               2.0   \n",
       "148                6.2               3.4                5.4               2.3   \n",
       "149                5.9               3.0                5.1               1.8   \n",
       "\n",
       "     target  \n",
       "0         0  \n",
       "1         0  \n",
       "2         0  \n",
       "3         0  \n",
       "4         0  \n",
       "..      ...  \n",
       "145       2  \n",
       "146       2  \n",
       "147       2  \n",
       "148       2  \n",
       "149       2  \n",
       "\n",
       "[150 rows x 5 columns]"
      ]
     },
     "execution_count": 5,
     "metadata": {},
     "output_type": "execute_result"
    }
   ],
   "source": [
    "# commenting the relavant library for my own record\n",
    "# from sklearn.datasets import load_iris\n",
    "iris_dataset = load_iris()\n",
    "# creating a dataframe\n",
    "iris_dataframe = pd.DataFrame(data=iris_dataset.data, columns=iris_dataset.feature_names)\n",
    "# indicating the target column\n",
    "iris_dataframe['target'] = iris_dataset.target\n",
    "iris_dataframe"
   ]
  },
  {
   "cell_type": "markdown",
   "id": "b4725f52",
   "metadata": {},
   "source": [
    "### Explanation:\n",
    "    This table has a column called \"target\" with numbers that stand for different types of flowers. For example, 0 means \"setosa,\" 1 means \"versicolor,\" and 2 means \"virginica.\"\n"
   ]
  },
  {
   "cell_type": "code",
   "execution_count": null,
   "id": "66d2cd29",
   "metadata": {},
   "outputs": [],
   "source": []
  },
  {
   "cell_type": "code",
   "execution_count": null,
   "id": "8a05e599",
   "metadata": {},
   "outputs": [],
   "source": []
  },
  {
   "cell_type": "code",
   "execution_count": null,
   "id": "3eb0303d",
   "metadata": {},
   "outputs": [],
   "source": []
  },
  {
   "cell_type": "code",
   "execution_count": null,
   "id": "a6995d95",
   "metadata": {},
   "outputs": [],
   "source": []
  },
  {
   "cell_type": "code",
   "execution_count": null,
   "id": "e5523559",
   "metadata": {},
   "outputs": [],
   "source": []
  },
  {
   "cell_type": "code",
   "execution_count": null,
   "id": "6f5bfc41",
   "metadata": {},
   "outputs": [],
   "source": []
  },
  {
   "cell_type": "markdown",
   "id": "6e50201e",
   "metadata": {},
   "source": [
    "<span style=\"color:blue\">**Step 2: In this part I will implement and write code for creating a decision tree for iris dataset. in the following you will see my codes coressponding to implementin a decision tree for iris dataset. In adition I will put comments for each codes to explain the reason I will use them.**</span>"
   ]
  },
  {
   "cell_type": "code",
   "execution_count": 8,
   "id": "45386d5f",
   "metadata": {},
   "outputs": [
    {
     "data": {
      "text/plain": [
       "1.0"
      ]
     },
     "execution_count": 8,
     "metadata": {},
     "output_type": "execute_result"
    }
   ],
   "source": [
    "# first of all I determine the train test split in this dataset.\n",
    "# I use 20 % of data for test and 80% for training,\n",
    "# I will change this percentage to see the differentces between \n",
    "# 20% of data test and 30 % data test\n",
    "# I use value 42 for random_state in order to get same data each time. \n",
    "X=iris.data\n",
    "y=iris.target\n",
    "X_train, X_test, y_train, y_test = train_test_split(X, y, test_size=0.2, random_state=42)\n",
    "\n",
    "# after train test split here I will assign the decision tree model \n",
    "iris_model = DecisionTreeClassifier(criterion='gini')\n",
    "\n",
    "# now I am training the our train dataset\n",
    "iris_model.fit(X_train, y_train)\n",
    "\n",
    "iris_model.score(X_train, y_train)"
   ]
  },
  {
   "cell_type": "markdown",
   "id": "7a54692f",
   "metadata": {},
   "source": [
    "<span style=\"color:blue\">**Result: when I assign 20% of dataset to test data, the model score is 1, and when I assign 30% of dataset to test data the model score is also 1, so I decided to keep 20% for test data.**</span>"
   ]
  },
  {
   "cell_type": "code",
   "execution_count": 9,
   "id": "cc563d57",
   "metadata": {},
   "outputs": [
    {
     "data": {
      "text/plain": [
       "array([1, 0, 2, 1, 1, 0, 1, 2, 1, 1, 2, 0, 0, 0, 0, 1, 2, 1, 1, 2, 0, 2,\n",
       "       0, 2, 2, 2, 2, 2, 0, 0])"
      ]
     },
     "execution_count": 9,
     "metadata": {},
     "output_type": "execute_result"
    }
   ],
   "source": [
    "# in the next step I will use our test dataset to prediction\n",
    "y_pred = iris_model.predict(X_test)\n",
    "y_pred\n"
   ]
  },
  {
   "cell_type": "markdown",
   "id": "9c54b744",
   "metadata": {},
   "source": [
    "<span style=\"color:blue\">**In the following, I will create an IF-statement block to display the predictions of flowers.**</span>"
   ]
  },
  {
   "cell_type": "code",
   "execution_count": 10,
   "id": "37097c32",
   "metadata": {},
   "outputs": [
    {
     "name": "stdout",
     "output_type": "stream",
     "text": [
      "It is a Versicolor flower.\n",
      "It is a Setosa flower.\n",
      "It is a Virginica flower.\n",
      "It is a Versicolor flower.\n",
      "It is a Versicolor flower.\n",
      "It is a Setosa flower.\n",
      "It is a Versicolor flower.\n",
      "It is a Virginica flower.\n",
      "It is a Versicolor flower.\n",
      "It is a Versicolor flower.\n",
      "It is a Virginica flower.\n",
      "It is a Setosa flower.\n",
      "It is a Setosa flower.\n",
      "It is a Setosa flower.\n",
      "It is a Setosa flower.\n",
      "It is a Versicolor flower.\n",
      "It is a Virginica flower.\n",
      "It is a Versicolor flower.\n",
      "It is a Versicolor flower.\n",
      "It is a Virginica flower.\n",
      "It is a Setosa flower.\n",
      "It is a Virginica flower.\n",
      "It is a Setosa flower.\n",
      "It is a Virginica flower.\n",
      "It is a Virginica flower.\n",
      "It is a Virginica flower.\n",
      "It is a Virginica flower.\n",
      "It is a Virginica flower.\n",
      "It is a Setosa flower.\n",
      "It is a Setosa flower.\n"
     ]
    }
   ],
   "source": [
    "# Now, let's print the predictions\n",
    "for prediction in y_pred:\n",
    "    if prediction == 0:\n",
    "        print(\"It is a Setosa flower.\")\n",
    "    elif prediction == 1:\n",
    "        print(\"It is a Versicolor flower.\")\n",
    "    elif prediction == 2:\n",
    "        print(\"It is a Virginica flower.\")"
   ]
  },
  {
   "cell_type": "code",
   "execution_count": 11,
   "id": "f0e02674",
   "metadata": {},
   "outputs": [
    {
     "name": "stdout",
     "output_type": "stream",
     "text": [
      "Accuracy: 1.00\n",
      "\n",
      "Confusion Matrix:\n",
      " [[10  0  0]\n",
      " [ 0  9  0]\n",
      " [ 0  0 11]]\n",
      "\n",
      "Classification Report:\n",
      "               precision    recall  f1-score   support\n",
      "\n",
      "           0       1.00      1.00      1.00        10\n",
      "           1       1.00      1.00      1.00         9\n",
      "           2       1.00      1.00      1.00        11\n",
      "\n",
      "    accuracy                           1.00        30\n",
      "   macro avg       1.00      1.00      1.00        30\n",
      "weighted avg       1.00      1.00      1.00        30\n",
      "\n"
     ]
    }
   ],
   "source": [
    "# In the following I will calculating the evaluation of our model,\n",
    "# I calculate the accuracy and will show the confusion matrix and report\n",
    "accuracy = accuracy_score(y_test, y_pred)\n",
    "conf_matrix = confusion_matrix(y_test, y_pred)\n",
    "classification_rep = classification_report(y_test, y_pred)\n",
    "\n",
    "print(f\"Accuracy: {accuracy:.2f}\")\n",
    "print(\"\\nConfusion Matrix:\\n\", conf_matrix)\n",
    "print(\"\\nClassification Report:\\n\", classification_rep)"
   ]
  },
  {
   "cell_type": "markdown",
   "id": "29d3b87b",
   "metadata": {},
   "source": [
    "<span style=\"color:blue\">**The results that has been obtained from evaluating this model are providing insights into this model performance. An accuracy of 1.00 signifies that this model made correct predictions for every instance in the test set. The confusion matrix visually breaks down correct and incorrect predictions by class, with zeros off the diagonal indicating an absence of misclassifications. In the classification report, precision shows the accuracy of positive predictions, recall assesses the model's ability to capture all actual positives, and the F1-score combines both metrics. This model achieved perfect scores (1.00) for precision, recall, and F1-score for each class, reinforcing its excellent performance on the test set.**</span>"
   ]
  }
 ],
 "metadata": {
  "kernelspec": {
   "display_name": "Python 3 (ipykernel)",
   "language": "python",
   "name": "python3"
  },
  "language_info": {
   "codemirror_mode": {
    "name": "ipython",
    "version": 3
   },
   "file_extension": ".py",
   "mimetype": "text/x-python",
   "name": "python",
   "nbconvert_exporter": "python",
   "pygments_lexer": "ipython3",
   "version": "3.11.5"
  }
 },
 "nbformat": 4,
 "nbformat_minor": 5
}
