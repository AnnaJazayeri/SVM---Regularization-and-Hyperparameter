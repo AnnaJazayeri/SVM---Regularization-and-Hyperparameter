{
 "cells": [
  {
   "cell_type": "markdown",
   "id": "149f2f14",
   "metadata": {},
   "source": [
    "### Machine Learning BDA 500\n",
    "### Anna\n",
    "### Assignment 2\n"
   ]
  },
  {
   "cell_type": "markdown",
   "id": "e8471556",
   "metadata": {},
   "source": [
    "# Task 1: Support Vector Machine, regularization, and hyperparameter optimization\n",
    "### IRIS datast"
   ]
  },
  {
   "cell_type": "markdown",
   "id": "f3ffedb3",
   "metadata": {},
   "source": [
    "## Task 1-1: Frame the problem:\n",
    "\n",
    "    "
   ]
  },
  {
   "cell_type": "markdown",
   "id": "4cb39766",
   "metadata": {},
   "source": [
    "## Task 1-2: Importing relevant libraries"
   ]
  },
  {
   "cell_type": "code",
   "execution_count": 29,
   "id": "2344f4d3",
   "metadata": {},
   "outputs": [],
   "source": [
    "import pandas as pd\n",
    "from sklearn.datasets import load_iris\n",
    "import matplotlib.pyplot as plt\n",
    "from sklearn.model_selection import train_test_split, RandomizedSearchCV\n",
    "from sklearn.preprocessing import StandardScaler\n",
    "from sklearn.svm import SVC, LinearSVC\n",
    "from sklearn.linear_model import SGDClassifier\n",
    "from sklearn.metrics import accuracy_score, classification_report\n",
    "import numpy as np\n",
    "import warnings\n",
    "# Ignore all future warnings\n",
    "warnings.simplefilter(action='ignore', category=FutureWarning)"
   ]
  },
  {
   "cell_type": "markdown",
   "id": "af56ea8f",
   "metadata": {},
   "source": [
    "## Task 1-3: Importing the IRIS dataset"
   ]
  },
  {
   "cell_type": "code",
   "execution_count": 18,
   "id": "bea6a1d4",
   "metadata": {},
   "outputs": [],
   "source": [
    "# commenting the relavant library for my own record\n",
    "# from sklearn.datasets import load_iris\n",
    "iris_dataset = load_iris()\n",
    "# creating a dataframe\n",
    "iris_dataframe = pd.DataFrame(data=iris_dataset.data, columns=iris_dataset.feature_names)\n",
    "# indicating the target column\n",
    "iris_dataframe['target'] = iris_dataset.target"
   ]
  },
  {
   "cell_type": "markdown",
   "id": "c09c0db1",
   "metadata": {},
   "source": [
    "## Task 1-4: Take a quick look at the data structure"
   ]
  },
  {
   "cell_type": "code",
   "execution_count": 19,
   "id": "8a05e599",
   "metadata": {},
   "outputs": [
    {
     "data": {
      "text/html": [
       "<div>\n",
       "<style scoped>\n",
       "    .dataframe tbody tr th:only-of-type {\n",
       "        vertical-align: middle;\n",
       "    }\n",
       "\n",
       "    .dataframe tbody tr th {\n",
       "        vertical-align: top;\n",
       "    }\n",
       "\n",
       "    .dataframe thead th {\n",
       "        text-align: right;\n",
       "    }\n",
       "</style>\n",
       "<table border=\"1\" class=\"dataframe\">\n",
       "  <thead>\n",
       "    <tr style=\"text-align: right;\">\n",
       "      <th></th>\n",
       "      <th>sepal length (cm)</th>\n",
       "      <th>sepal width (cm)</th>\n",
       "      <th>petal length (cm)</th>\n",
       "      <th>petal width (cm)</th>\n",
       "      <th>target</th>\n",
       "    </tr>\n",
       "  </thead>\n",
       "  <tbody>\n",
       "    <tr>\n",
       "      <th>0</th>\n",
       "      <td>5.1</td>\n",
       "      <td>3.5</td>\n",
       "      <td>1.4</td>\n",
       "      <td>0.2</td>\n",
       "      <td>0</td>\n",
       "    </tr>\n",
       "    <tr>\n",
       "      <th>1</th>\n",
       "      <td>4.9</td>\n",
       "      <td>3.0</td>\n",
       "      <td>1.4</td>\n",
       "      <td>0.2</td>\n",
       "      <td>0</td>\n",
       "    </tr>\n",
       "    <tr>\n",
       "      <th>2</th>\n",
       "      <td>4.7</td>\n",
       "      <td>3.2</td>\n",
       "      <td>1.3</td>\n",
       "      <td>0.2</td>\n",
       "      <td>0</td>\n",
       "    </tr>\n",
       "    <tr>\n",
       "      <th>3</th>\n",
       "      <td>4.6</td>\n",
       "      <td>3.1</td>\n",
       "      <td>1.5</td>\n",
       "      <td>0.2</td>\n",
       "      <td>0</td>\n",
       "    </tr>\n",
       "    <tr>\n",
       "      <th>4</th>\n",
       "      <td>5.0</td>\n",
       "      <td>3.6</td>\n",
       "      <td>1.4</td>\n",
       "      <td>0.2</td>\n",
       "      <td>0</td>\n",
       "    </tr>\n",
       "    <tr>\n",
       "      <th>...</th>\n",
       "      <td>...</td>\n",
       "      <td>...</td>\n",
       "      <td>...</td>\n",
       "      <td>...</td>\n",
       "      <td>...</td>\n",
       "    </tr>\n",
       "    <tr>\n",
       "      <th>145</th>\n",
       "      <td>6.7</td>\n",
       "      <td>3.0</td>\n",
       "      <td>5.2</td>\n",
       "      <td>2.3</td>\n",
       "      <td>2</td>\n",
       "    </tr>\n",
       "    <tr>\n",
       "      <th>146</th>\n",
       "      <td>6.3</td>\n",
       "      <td>2.5</td>\n",
       "      <td>5.0</td>\n",
       "      <td>1.9</td>\n",
       "      <td>2</td>\n",
       "    </tr>\n",
       "    <tr>\n",
       "      <th>147</th>\n",
       "      <td>6.5</td>\n",
       "      <td>3.0</td>\n",
       "      <td>5.2</td>\n",
       "      <td>2.0</td>\n",
       "      <td>2</td>\n",
       "    </tr>\n",
       "    <tr>\n",
       "      <th>148</th>\n",
       "      <td>6.2</td>\n",
       "      <td>3.4</td>\n",
       "      <td>5.4</td>\n",
       "      <td>2.3</td>\n",
       "      <td>2</td>\n",
       "    </tr>\n",
       "    <tr>\n",
       "      <th>149</th>\n",
       "      <td>5.9</td>\n",
       "      <td>3.0</td>\n",
       "      <td>5.1</td>\n",
       "      <td>1.8</td>\n",
       "      <td>2</td>\n",
       "    </tr>\n",
       "  </tbody>\n",
       "</table>\n",
       "<p>150 rows × 5 columns</p>\n",
       "</div>"
      ],
      "text/plain": [
       "     sepal length (cm)  sepal width (cm)  petal length (cm)  petal width (cm)  \\\n",
       "0                  5.1               3.5                1.4               0.2   \n",
       "1                  4.9               3.0                1.4               0.2   \n",
       "2                  4.7               3.2                1.3               0.2   \n",
       "3                  4.6               3.1                1.5               0.2   \n",
       "4                  5.0               3.6                1.4               0.2   \n",
       "..                 ...               ...                ...               ...   \n",
       "145                6.7               3.0                5.2               2.3   \n",
       "146                6.3               2.5                5.0               1.9   \n",
       "147                6.5               3.0                5.2               2.0   \n",
       "148                6.2               3.4                5.4               2.3   \n",
       "149                5.9               3.0                5.1               1.8   \n",
       "\n",
       "     target  \n",
       "0         0  \n",
       "1         0  \n",
       "2         0  \n",
       "3         0  \n",
       "4         0  \n",
       "..      ...  \n",
       "145       2  \n",
       "146       2  \n",
       "147       2  \n",
       "148       2  \n",
       "149       2  \n",
       "\n",
       "[150 rows x 5 columns]"
      ]
     },
     "execution_count": 19,
     "metadata": {},
     "output_type": "execute_result"
    }
   ],
   "source": [
    "iris_dataframe"
   ]
  },
  {
   "cell_type": "markdown",
   "id": "b4725f52",
   "metadata": {},
   "source": [
    "### Explanation:\n",
    "    This table has a column called \"target\" with numbers that stand for different types of flowers. For example, 0 means \"setosa,\" 1 means \"versicolor,\" and 2 means \"virginica.\"\n"
   ]
  },
  {
   "cell_type": "code",
   "execution_count": 20,
   "id": "3eb0303d",
   "metadata": {},
   "outputs": [
    {
     "name": "stdout",
     "output_type": "stream",
     "text": [
      "<class 'pandas.core.frame.DataFrame'>\n",
      "RangeIndex: 150 entries, 0 to 149\n",
      "Data columns (total 5 columns):\n",
      " #   Column             Non-Null Count  Dtype  \n",
      "---  ------             --------------  -----  \n",
      " 0   sepal length (cm)  150 non-null    float64\n",
      " 1   sepal width (cm)   150 non-null    float64\n",
      " 2   petal length (cm)  150 non-null    float64\n",
      " 3   petal width (cm)   150 non-null    float64\n",
      " 4   target             150 non-null    int32  \n",
      "dtypes: float64(4), int32(1)\n",
      "memory usage: 5.4 KB\n"
     ]
    }
   ],
   "source": [
    "iris_dataframe.info()"
   ]
  },
  {
   "cell_type": "markdown",
   "id": "e7368468",
   "metadata": {},
   "source": [
    "### Explanation:\n",
    "    This dataset has 5 columns, all columns are numeric, the four independent columns are float type, and the target (dependent) column is integer type. Also this dataset has 150 rows."
   ]
  },
  {
   "cell_type": "code",
   "execution_count": 21,
   "id": "e5523559",
   "metadata": {},
   "outputs": [
    {
     "data": {
      "text/html": [
       "<div>\n",
       "<style scoped>\n",
       "    .dataframe tbody tr th:only-of-type {\n",
       "        vertical-align: middle;\n",
       "    }\n",
       "\n",
       "    .dataframe tbody tr th {\n",
       "        vertical-align: top;\n",
       "    }\n",
       "\n",
       "    .dataframe thead th {\n",
       "        text-align: right;\n",
       "    }\n",
       "</style>\n",
       "<table border=\"1\" class=\"dataframe\">\n",
       "  <thead>\n",
       "    <tr style=\"text-align: right;\">\n",
       "      <th></th>\n",
       "      <th>sepal length (cm)</th>\n",
       "      <th>sepal width (cm)</th>\n",
       "      <th>petal length (cm)</th>\n",
       "      <th>petal width (cm)</th>\n",
       "      <th>target</th>\n",
       "    </tr>\n",
       "  </thead>\n",
       "  <tbody>\n",
       "    <tr>\n",
       "      <th>count</th>\n",
       "      <td>150.000000</td>\n",
       "      <td>150.000000</td>\n",
       "      <td>150.000000</td>\n",
       "      <td>150.000000</td>\n",
       "      <td>150.000000</td>\n",
       "    </tr>\n",
       "    <tr>\n",
       "      <th>mean</th>\n",
       "      <td>5.843333</td>\n",
       "      <td>3.057333</td>\n",
       "      <td>3.758000</td>\n",
       "      <td>1.199333</td>\n",
       "      <td>1.000000</td>\n",
       "    </tr>\n",
       "    <tr>\n",
       "      <th>std</th>\n",
       "      <td>0.828066</td>\n",
       "      <td>0.435866</td>\n",
       "      <td>1.765298</td>\n",
       "      <td>0.762238</td>\n",
       "      <td>0.819232</td>\n",
       "    </tr>\n",
       "    <tr>\n",
       "      <th>min</th>\n",
       "      <td>4.300000</td>\n",
       "      <td>2.000000</td>\n",
       "      <td>1.000000</td>\n",
       "      <td>0.100000</td>\n",
       "      <td>0.000000</td>\n",
       "    </tr>\n",
       "    <tr>\n",
       "      <th>25%</th>\n",
       "      <td>5.100000</td>\n",
       "      <td>2.800000</td>\n",
       "      <td>1.600000</td>\n",
       "      <td>0.300000</td>\n",
       "      <td>0.000000</td>\n",
       "    </tr>\n",
       "    <tr>\n",
       "      <th>50%</th>\n",
       "      <td>5.800000</td>\n",
       "      <td>3.000000</td>\n",
       "      <td>4.350000</td>\n",
       "      <td>1.300000</td>\n",
       "      <td>1.000000</td>\n",
       "    </tr>\n",
       "    <tr>\n",
       "      <th>75%</th>\n",
       "      <td>6.400000</td>\n",
       "      <td>3.300000</td>\n",
       "      <td>5.100000</td>\n",
       "      <td>1.800000</td>\n",
       "      <td>2.000000</td>\n",
       "    </tr>\n",
       "    <tr>\n",
       "      <th>max</th>\n",
       "      <td>7.900000</td>\n",
       "      <td>4.400000</td>\n",
       "      <td>6.900000</td>\n",
       "      <td>2.500000</td>\n",
       "      <td>2.000000</td>\n",
       "    </tr>\n",
       "  </tbody>\n",
       "</table>\n",
       "</div>"
      ],
      "text/plain": [
       "       sepal length (cm)  sepal width (cm)  petal length (cm)  \\\n",
       "count         150.000000        150.000000         150.000000   \n",
       "mean            5.843333          3.057333           3.758000   \n",
       "std             0.828066          0.435866           1.765298   \n",
       "min             4.300000          2.000000           1.000000   \n",
       "25%             5.100000          2.800000           1.600000   \n",
       "50%             5.800000          3.000000           4.350000   \n",
       "75%             6.400000          3.300000           5.100000   \n",
       "max             7.900000          4.400000           6.900000   \n",
       "\n",
       "       petal width (cm)      target  \n",
       "count        150.000000  150.000000  \n",
       "mean           1.199333    1.000000  \n",
       "std            0.762238    0.819232  \n",
       "min            0.100000    0.000000  \n",
       "25%            0.300000    0.000000  \n",
       "50%            1.300000    1.000000  \n",
       "75%            1.800000    2.000000  \n",
       "max            2.500000    2.000000  "
      ]
     },
     "execution_count": 21,
     "metadata": {},
     "output_type": "execute_result"
    }
   ],
   "source": [
    "iris_dataframe.describe()"
   ]
  },
  {
   "cell_type": "markdown",
   "id": "08b6e451",
   "metadata": {},
   "source": [
    "### Explanation:\n",
    "    With describe() we get the statistics summary of nemeric columns of this dataset, as you can see in above. "
   ]
  },
  {
   "cell_type": "code",
   "execution_count": 22,
   "id": "5ce234e8",
   "metadata": {},
   "outputs": [
    {
     "data": {
      "image/png": "[encoded data removed]",
      "text/plain": [
       "<Figure size 2000x1500 with 6 Axes>"
      ]
     },
     "metadata": {},
     "output_type": "display_data"
    }
   ],
   "source": [
    "# Plotting histograms for numerical columns\n",
    "iris_dataframe.hist(bins=5, figsize=(20, 15))\n",
    "plt.show()"
   ]
  },
  {
   "cell_type": "markdown",
   "id": "198cce4e",
   "metadata": {},
   "source": [
    "### Explanation:\n",
    "    Based on above histograms we can see that our target values has a balanced distributions between all different types of flowers. In two columns (sepal length (cm)) and (sepal width (cm)) we have a normal bell-shaped distribution. In two other columns (petal length (cm)) and (petal width (cm)) we see two peaks so this two columns are not normal bell shaped distribution. "
   ]
  },
  {
   "cell_type": "markdown",
   "id": "99b250b3",
   "metadata": {},
   "source": [
    "## Task 1-5: train test split"
   ]
  },
  {
   "cell_type": "code",
   "execution_count": 24,
   "id": "0b6c6b6a",
   "metadata": {},
   "outputs": [],
   "source": [
    "X = iris_dataset.data\n",
    "y = iris_dataset.target\n",
    "\n",
    "# Train test split\n",
    "X_train, X_test, y_train, y_test = train_test_split(X, y, test_size=0.2, random_state=42)\n",
    "\n"
   ]
  },
  {
   "cell_type": "markdown",
   "id": "2634928c",
   "metadata": {},
   "source": [
    "## Task 1-6: Standardizaion"
   ]
  },
  {
   "cell_type": "code",
   "execution_count": 27,
   "id": "bd166cfd",
   "metadata": {},
   "outputs": [],
   "source": [
    "# Standardize features by removing the mean and scaling to unit variance\n",
    "scaler = StandardScaler()\n",
    "X_train = scaler.fit_transform(X_train)\n",
    "X_test = scaler.transform(X_test)\n"
   ]
  },
  {
   "cell_type": "markdown",
   "id": "6a3713a5",
   "metadata": {},
   "source": [
    "## Task 1-7: LinearSVC"
   ]
  },
  {
   "cell_type": "code",
   "execution_count": 30,
   "id": "fff4d357",
   "metadata": {},
   "outputs": [
    {
     "name": "stdout",
     "output_type": "stream",
     "text": [
      "LinearSVC Accuracy: 1.0\n",
      "Classification Report:\n",
      "              precision    recall  f1-score   support\n",
      "\n",
      "           0       1.00      1.00      1.00        10\n",
      "           1       1.00      1.00      1.00         9\n",
      "           2       1.00      1.00      1.00        11\n",
      "\n",
      "    accuracy                           1.00        30\n",
      "   macro avg       1.00      1.00      1.00        30\n",
      "weighted avg       1.00      1.00      1.00        30\n",
      "\n"
     ]
    }
   ],
   "source": [
    "# Initialize and train LinearSVC\n",
    "linear_svc = LinearSVC()\n",
    "linear_svc.fit(X_train, y_train)\n",
    "\n",
    "# Predict using LinearSVC\n",
    "linear_svc_pred = linear_svc.predict(X_test)\n",
    "\n",
    "# Evaluate LinearSVC\n",
    "linear_svc_accuracy = accuracy_score(y_test, linear_svc_pred)\n",
    "print(\"LinearSVC Accuracy:\", linear_svc_accuracy)\n",
    "print(\"Classification Report:\")\n",
    "print(classification_report(y_test, linear_svc_pred))\n"
   ]
  },
  {
   "cell_type": "markdown",
   "id": "e7a2f1ab",
   "metadata": {},
   "source": [
    "## Task 1-8: SVC with Linear Kernel"
   ]
  },
  {
   "cell_type": "code",
   "execution_count": 31,
   "id": "ecbe5e3d",
   "metadata": {},
   "outputs": [
    {
     "name": "stdout",
     "output_type": "stream",
     "text": [
      "SVC with Linear Kernel Accuracy: 0.9666666666666667\n",
      "Classification Report:\n",
      "              precision    recall  f1-score   support\n",
      "\n",
      "           0       1.00      1.00      1.00        10\n",
      "           1       1.00      0.89      0.94         9\n",
      "           2       0.92      1.00      0.96        11\n",
      "\n",
      "    accuracy                           0.97        30\n",
      "   macro avg       0.97      0.96      0.97        30\n",
      "weighted avg       0.97      0.97      0.97        30\n",
      "\n"
     ]
    }
   ],
   "source": [
    "# Initialize and train SVC with linear kernel\n",
    "svc_linear = SVC(kernel='linear')\n",
    "svc_linear.fit(X_train, y_train)\n",
    "\n",
    "# Predict using SVC with linear kernel\n",
    "svc_linear_pred = svc_linear.predict(X_test)\n",
    "\n",
    "# Evaluate SVC with linear kernel\n",
    "svc_linear_accuracy = accuracy_score(y_test, svc_linear_pred)\n",
    "print(\"SVC with Linear Kernel Accuracy:\", svc_linear_accuracy)\n",
    "print(\"Classification Report:\")\n",
    "print(classification_report(y_test, svc_linear_pred))\n"
   ]
  },
  {
   "cell_type": "markdown",
   "id": "120b509a",
   "metadata": {},
   "source": [
    "### Explanation:\n",
    "\n",
    "    LinearSVC() and SVC(kernel='linear') are both implementations of linear Support Vector Classification (SVC) in scikit-learn, but they differ in their underlying algorithms, capabilities, and computational efficiency.\n",
    "\n",
    "    - Algorithm Used:\n",
    "    LinearSVC() uses the linear SVM algorithm with the one-vs-rest (OvR) multiclass reduction by default. It's based on the LIBLINEAR library and uses the linear kernel.\n",
    "    SVC(kernel='linear') specifies the linear kernel explicitly for the SVC class. It uses the LIBSVM library and also implements linear SVM, but it might use a different underlying algorithm compared to LinearSVC().\n",
    "    \n",
    "    - Multiclass Classification:\n",
    "    LinearSVC() directly supports multiclass classification using the OvR strategy.\n",
    "    SVC(kernel='linear') by itself is a binary classifier, so for multiclass classification, it uses the one-vs-one (OvO) strategy by default. However, setting the decision_function_shape='ovr' parameter in SVC(kernel='linear') can make it behave similarly to LinearSVC().\n",
    "    \n",
    "    - Performance and Scalability:\n",
    "    LinearSVC() might be more suitable for large datasets due to its use of the LIBLINEAR library, which is known for its efficiency on large-scale problems.\n",
    "    SVC(kernel='linear') might be computationally more expensive, especially for larger datasets, as it uses LIBSVM, which is generally less efficient for linear problems but might offer more flexibility in terms of kernels.\n",
    "    \n",
    "    - Flexibility:\n",
    "    LinearSVC() has fewer hyperparameters to tune compared to SVC(kernel='linear'). It might be simpler to use and faster to train due to this reduced parameter space.\n",
    "    SVC(kernel='linear') provides the flexibility to use other kernels as well, not just the linear kernel, allowing you to switch to non-linear kernels like polynomial or RBF if needed.\n",
    "    \n",
    "    In summary, while both LinearSVC() and SVC(kernel='linear') perform linear classification, their differences lie in the underlying algorithms, multiclass strategies, computational efficiency, and the flexibility they offer in terms of kernel choices and hyperparameters. The choice between them might depend on the specific requirements of your problem, dataset size, and desired trade-offs between flexibility and computational efficiency. \n",
    "    \n",
    "    1. LinearSVC():\n",
    "    It's a simpler and faster option for linear classification.\n",
    "    Great for big datasets because it's efficient.\n",
    "    Works well for multi-class classification directly.\n",
    "    \n",
    "    2. SVC(kernel='linear'):\n",
    "    Also does linear classification, but might be slower for large datasets.\n",
    "    Offers more flexibility to use different kernels besides linear.\n",
    "    Default behavior for multi-class is different, using a strategy that might be less direct.\n",
    "    \n",
    "    So, if we want something straightforward and speedy for linear classification, especially with a large dataset or multi-class problem, we go with LinearSVC(). But if we need more flexibility to try different kernels or don't mind slightly slower performance, SVC(kernel='linear') could be a good fit.\n",
    "    \n",
    "    Source link: https://scikit-learn.org/stable/modules/generated/sklearn.svm.SVC.html"
   ]
  },
  {
   "cell_type": "markdown",
   "id": "3127bd5a",
   "metadata": {},
   "source": [
    "## Task 1-9: SGDClassifier"
   ]
  },
  {
   "cell_type": "code",
   "execution_count": 33,
   "id": "08c6dfd8",
   "metadata": {},
   "outputs": [
    {
     "name": "stdout",
     "output_type": "stream",
     "text": [
      "SGDClassifier Accuracy: 1.0\n",
      "Classification Report:\n",
      "              precision    recall  f1-score   support\n",
      "\n",
      "           0       1.00      1.00      1.00        10\n",
      "           1       1.00      1.00      1.00         9\n",
      "           2       1.00      1.00      1.00        11\n",
      "\n",
      "    accuracy                           1.00        30\n",
      "   macro avg       1.00      1.00      1.00        30\n",
      "weighted avg       1.00      1.00      1.00        30\n",
      "\n"
     ]
    }
   ],
   "source": [
    "# Initialize and train SGDClassifier\n",
    "sgd_clf = SGDClassifier(loss='hinge', random_state=42)\n",
    "sgd_clf.fit(X_train, y_train)\n",
    "\n",
    "# Predict using SGDClassifier\n",
    "sgd_clf_pred = sgd_clf.predict(X_test)\n",
    "\n",
    "# Evaluate SGDClassifier\n",
    "sgd_clf_accuracy = accuracy_score(y_test, sgd_clf_pred)\n",
    "print(\"SGDClassifier Accuracy:\", sgd_clf_accuracy)\n",
    "print(\"Classification Report:\")\n",
    "print(classification_report(y_test, sgd_clf_pred))\n"
   ]
  },
  {
   "cell_type": "markdown",
   "id": "ce684f5a",
   "metadata": {},
   "source": [
    "## Explanation:\n",
    "    hinge’: This option gives a linear Support Vector Machine (SVM). It's good for linear classification.\n",
    "\n",
    "    ‘log_loss’: It provides logistic regression, which is a classifier that predicts probabilities.\n",
    "\n",
    "    ‘modified_huber’: This is a smooth loss function that's tolerant to outliers and also works with probability estimates.\n",
    "\n",
    "    ‘squared_hinge’: Similar to hinge, but with a quadratic penalty. It's also used in SVMs.\n",
    "\n",
    "    ‘perceptron’: This loss function is used in the perceptron algorithm for linear classification.\n",
    "\n",
    "    The other options (‘squared_error’, ‘huber’, ‘epsilon_insensitive’, ‘squared_epsilon_insensitive’) are mainly designed for regression tasks but can sometimes be handy in classification. They're detailed in the SGDRegressor documentation.\n",
    "\n",
    "    These options represent different ways to measure the error or \"cost\" of the model's predictions, each with its own characteristics and suitability for various types of problems.\n",
    "    \n",
    "    Source link: https://scikit-learn.org/stable/modules/generated/sklearn.linear_model.SGDClassifier.html"
   ]
  },
  {
   "cell_type": "markdown",
   "id": "91a0abe2",
   "metadata": {},
   "source": [
    "## Task 1-10: SVC with RBF kernel"
   ]
  },
  {
   "cell_type": "code",
   "execution_count": 34,
   "id": "fc226177",
   "metadata": {},
   "outputs": [
    {
     "name": "stdout",
     "output_type": "stream",
     "text": [
      "SVC with RBF Kernel Accuracy: 1.0\n",
      "Classification Report:\n",
      "              precision    recall  f1-score   support\n",
      "\n",
      "           0       1.00      1.00      1.00        10\n",
      "           1       1.00      1.00      1.00         9\n",
      "           2       1.00      1.00      1.00        11\n",
      "\n",
      "    accuracy                           1.00        30\n",
      "   macro avg       1.00      1.00      1.00        30\n",
      "weighted avg       1.00      1.00      1.00        30\n",
      "\n"
     ]
    }
   ],
   "source": [
    "# Initialize and train SVC with RBF kernel\n",
    "svc_rbf = SVC(kernel='rbf', random_state=0)\n",
    "svc_rbf.fit(X_train, y_train)\n",
    "\n",
    "# Predict using SVC with RBF kernel\n",
    "svc_rbf_pred = svc_rbf.predict(X_test)\n",
    "\n",
    "# Evaluate SVC with RBF kernel\n",
    "svc_rbf_accuracy = accuracy_score(y_test, svc_rbf_pred)\n",
    "print(\"SVC with RBF Kernel Accuracy:\", svc_rbf_accuracy)\n",
    "print(\"Classification Report:\")\n",
    "print(classification_report(y_test, svc_rbf_pred))\n"
   ]
  },
  {
   "cell_type": "markdown",
   "id": "ca7bc404",
   "metadata": {},
   "source": [
    "## Task 1-11: SVC with RandomizedSearchCV for Hyperparameter Optimization"
   ]
  },
  {
   "cell_type": "code",
   "execution_count": 35,
   "id": "3a52fb5c",
   "metadata": {},
   "outputs": [
    {
     "name": "stdout",
     "output_type": "stream",
     "text": [
      "Best Parameters: {'kernel': 'linear', 'gamma': 78.47599703514607, 'C': 4.281332398719396}\n",
      "SVC with RandomizedSearchCV Accuracy: 0.9666666666666667\n",
      "Classification Report:\n",
      "              precision    recall  f1-score   support\n",
      "\n",
      "           0       1.00      1.00      1.00        10\n",
      "           1       1.00      0.89      0.94         9\n",
      "           2       0.92      1.00      0.96        11\n",
      "\n",
      "    accuracy                           0.97        30\n",
      "   macro avg       0.97      0.96      0.97        30\n",
      "weighted avg       0.97      0.97      0.97        30\n",
      "\n"
     ]
    }
   ],
   "source": [
    "# Set the hyperparameters grid for RandomizedSearchCV\n",
    "param_dist = {'C': np.logspace(-4, 4, 20),\n",
    "              'gamma': np.logspace(-4, 4, 20),\n",
    "              'kernel': ['rbf', 'linear', 'poly', 'sigmoid']}\n",
    "\n",
    "# Initialize RandomizedSearchCV\n",
    "svc_random = RandomizedSearchCV(SVC(random_state=0), param_distributions=param_dist, n_iter=100, cv=5, random_state=42)\n",
    "svc_random.fit(X_train, y_train)\n",
    "\n",
    "# Get the best parameters from RandomizedSearchCV\n",
    "best_params = svc_random.best_params_\n",
    "print(\"Best Parameters:\", best_params)\n",
    "\n",
    "# Predict using SVC with best parameters\n",
    "svc_random_pred = svc_random.predict(X_test)\n",
    "\n",
    "# Evaluate SVC with best parameters\n",
    "svc_random_accuracy = accuracy_score(y_test, svc_random_pred)\n",
    "print(\"SVC with RandomizedSearchCV Accuracy:\", svc_random_accuracy)\n",
    "print(\"Classification Report:\")\n",
    "print(classification_report(y_test, svc_random_pred))\n"
   ]
  },
  {
   "cell_type": "code",
   "execution_count": null,
   "id": "8be41daf",
   "metadata": {},
   "outputs": [],
   "source": []
  },
  {
   "cell_type": "markdown",
   "id": "dd1a94a6",
   "metadata": {},
   "source": [
    "Comparison and Conclusion\n",
    "Compare the accuracies and other evaluation metrics of the models to determine the best-performing model. Consider the trade-offs between model complexity, accuracy, and generalization performance.\n",
    "\n",
    "Visualizations such as confusion matrices, ROC curves, or decision boundaries can also aid in understanding the models' performance and behavior.\n",
    "\n",
    "Observations and Discussion:\n",
    "LinearSVC and SVC with Linear Kernel might perform similarly since they both use a linear kernel.\n",
    "SVC with RBF Kernel introduces non-linearity which might capture more complex relationships in the data.\n",
    "SGDClassifier is a linear model trained with stochastic gradient descent and might be faster but might need careful hyperparameter tuning.\n",
    "SVC with RandomizedSearchCV allows exploring various hyperparameters to find the best combination for the dataset.\n",
    "Regularization (e.g., C parameter in SVMs) is crucial to prevent overfitting.\n",
    "\n",
    "Evaluation metrics like accuracy, precision, recall, and F1-score will help in understanding model performance, especially in multiclass classification.\n",
    "\n",
    "Remember to adjust parameters and experiment further if needed for better performance and to avoid overfitting or underfitting.\n",
    "\n",
    "This process involves a lot of experimentation and might require tweaking parameters and exploring different techniques based on the dataset characteristics.\n",
    "\n",
    "Visualizations of decision boundaries, feature importances, or misclassified samples can offer insights into how the models are making decisions.\n",
    "\n",
    "The final choice of model should depend on a balance between accuracy, interpretability, and computational efficiency based on the specific requirements of the problem at hand.\n",
    "\n",
    "The above code and steps provide a framework to start experimenting with different classifiers and evaluate their performance on the Iris dataset. Further fine-tuning and analysis might be required based on the specific needs of the project or task at hand."
   ]
  },
  {
   "cell_type": "code",
   "execution_count": null,
   "id": "b51bfb9a",
   "metadata": {},
   "outputs": [],
   "source": []
  }
 ],
 "metadata": {
  "kernelspec": {
   "display_name": "Python 3 (ipykernel)",
   "language": "python",
   "name": "python3"
  },
  "language_info": {
   "codemirror_mode": {
    "name": "ipython",
    "version": 3
   },
   "file_extension": ".py",
   "mimetype": "text/x-python",
   "name": "python",
   "nbconvert_exporter": "python",
   "pygments_lexer": "ipython3",
   "version": "3.11.5"
  }
 },
 "nbformat": 4,
 "nbformat_minor": 5
}
